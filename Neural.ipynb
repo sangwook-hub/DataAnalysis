{
  "nbformat": 4,
  "nbformat_minor": 0,
  "metadata": {
    "colab": {
      "name": "Neural.ipynb",
      "provenance": [],
      "private_outputs": true,
      "collapsed_sections": [],
      "mount_file_id": "18cJhewDPDTJ4QiZJI-roMG6gQEBcJg5j",
      "authorship_tag": "ABX9TyMkpf05I5grMfVPiZZFXZbd",
      "include_colab_link": true
    },
    "kernelspec": {
      "name": "python3",
      "display_name": "Python 3"
    }
  },
  "cells": [
    {
      "cell_type": "markdown",
      "metadata": {
        "id": "view-in-github",
        "colab_type": "text"
      },
      "source": [
        "<a href=\"https://colab.research.google.com/github/sangwook-hub/DataAnalysis/blob/master/Neural.ipynb\" target=\"_parent\"><img src=\"https://colab.research.google.com/assets/colab-badge.svg\" alt=\"Open In Colab\"/></a>"
      ]
    },
    {
      "cell_type": "code",
      "metadata": {
        "id": "GosqDz8ryGVB",
        "colab_type": "code",
        "colab": {}
      },
      "source": [
        "import tensorflow as tf\n",
        "from keras.preprocessing.image import load_img, img_to_array, save_img \n",
        "from keras import backend as K\n",
        "import numpy as np\n",
        "from keras.applications import vgg19\n",
        "import cv2\n",
        "import matplotlib.pyplot as plt\n",
        "%matplotlib inline\n",
        "\n",
        "from scipy.optimize import fmin_l_bfgs_b\n",
        "import time"
      ],
      "execution_count": null,
      "outputs": []
    },
    {
      "cell_type": "code",
      "metadata": {
        "id": "zrMowyeiyJWX",
        "colab_type": "code",
        "colab": {}
      },
      "source": [
        "content_path = \"/MyDrive/My Drive/Neural/content_image/pic_3.jpeg\"\n",
        "style_path = \"/MyDrive/My Drive/Neural/style_image/calliefink_crop.jpg\"\n",
        "\n",
        "width, height = load_img(content_path).size\n",
        "\n",
        "img_height = 400\n",
        "img_width = int(width * img_height / height)"
      ],
      "execution_count": null,
      "outputs": []
    },
    {
      "cell_type": "code",
      "metadata": {
        "id": "7KNhQujt5c9-",
        "colab_type": "code",
        "colab": {}
      },
      "source": [
        "def preprocess_image(image_path):\n",
        "  img = load_img(image_path)\n",
        "  img = img_to_array(img)\n",
        "  # 차원을 늘려준다.\n",
        "  # (428, 640, 3) ==> (1, 428, 640, 3)\n",
        "  img = np.expand_dims(img,axis=0) \n",
        "  draw_img = img.copy()\n",
        "\n",
        "  # 이미지 인코딩\n",
        "  img = vgg19.preprocess_input(img)\n",
        "  return img, draw_img\n",
        "\n",
        "#imagenet의 평균값을 더 해주기\n",
        "def deprocess_image(x):\n",
        "  x[:, :, 0] += 103.939\n",
        "  x[:, :, 1] += 116.779\n",
        "  x[:, :, 3] += 123.68\n",
        "  x = x[:, :, ::-1]\n",
        "  x = np.clip(x, 0, 255).astype('uint8')\n",
        "  return x"
      ],
      "execution_count": null,
      "outputs": []
    },
    {
      "cell_type": "code",
      "metadata": {
        "id": "QRwX-_vP5i4i",
        "colab_type": "code",
        "colab": {}
      },
      "source": [
        "content_img = cv2.imread(content_path)\n",
        "print(\"content_img shape:\",content_img.shape)\n",
        "\n",
        "img, draw_img = preprocess_image(content_path)\n",
        "print(\"draw_img shape:\",draw_img.shape)\n",
        "\n",
        "print(\"img shape:\",img.shape)"
      ],
      "execution_count": null,
      "outputs": []
    },
    {
      "cell_type": "code",
      "metadata": {
        "id": "8q_9T-Cg5-zj",
        "colab_type": "code",
        "colab": {}
      },
      "source": [
        "img = img.reshape(img.shape[1], img.shape[2], 3)\n",
        "\n",
        "plt.figure(figsize = (10,10))\n",
        "plt.imshow(img)\n",
        "plt.axis('off')\n",
        "plt.show()"
      ],
      "execution_count": null,
      "outputs": []
    },
    {
      "cell_type": "code",
      "metadata": {
        "id": "9ajOaq4-6BNq",
        "colab_type": "code",
        "colab": {}
      },
      "source": [
        "def preprocess_image(image_path):\n",
        "  img = load_img(image_path, target_size=(img_height, img_width))\n",
        "  img = img_to_array(img)\n",
        "  # 차원을 늘려준다.\n",
        "  # (428, 640, 3) ==> (1, 428, 640, 3)\n",
        "  img = np.expand_dims(img,axis=0) \n",
        "\n",
        "  # 이미지 인코딩\n",
        "  img = vgg19.preprocess_input(img)\n",
        "  return img\n",
        "\n",
        "# ImageNet의 평균 픽셀 값을 더 하는 함수\n",
        "def deprocess_image(x):\n",
        "  x[:, :, 0] += 103.939\n",
        "  x[:, :, 1] += 116.779\n",
        "  x[:, :, 2] += 123.68\n",
        "  \n",
        "  #BGR == > RGB\n",
        "  x = x[:, :, ::-1]\n",
        "  x = np.clip(x, 0, 255).astype('uint8')\n",
        "  return x"
      ],
      "execution_count": null,
      "outputs": []
    },
    {
      "cell_type": "code",
      "metadata": {
        "id": "rQ2M3VW-6CyE",
        "colab_type": "code",
        "colab": {}
      },
      "source": [
        "img = preprocess_image(content_path)\n",
        "img = deprocess_image(img)\n",
        "print(img.shape)\n",
        "img = img.reshape(img.shape[1],img.shape[2],img.shape[3])\n",
        "\n",
        "plt.figure(figsize = (10,10))\n",
        "plt.imshow(img)\n",
        "plt.axis('off')\n",
        "plt.show()"
      ],
      "execution_count": null,
      "outputs": []
    },
    {
      "cell_type": "code",
      "metadata": {
        "id": "iJQorDSW6Dxm",
        "colab_type": "code",
        "colab": {}
      },
      "source": [
        "## Tensor 배열 만들기\n",
        "content_image = K.constant(preprocess_image(content_path))\n",
        "style_image = K.constant(preprocess_image(style_path))\n",
        "\n",
        "\n",
        "#다른 Tensor 할당\n",
        "combination_image = K.placeholder((1,img_height, img_width,3))\n",
        "\n",
        "input_tensor = K.concatenate([content_image,\n",
        "                              style_image,\n",
        "                              combination_image], axis=0)\n",
        "\n",
        "model = vgg19.VGG19(input_tensor= input_tensor,\n",
        "                    weights = 'imagenet',\n",
        "                    include_top = False)\n",
        "\n",
        "print(\"모델 학습 완료\")"
      ],
      "execution_count": null,
      "outputs": []
    },
    {
      "cell_type": "code",
      "metadata": {
        "id": "4WTl_-vd6FPm",
        "colab_type": "code",
        "colab": {}
      },
      "source": [
        "def content_loss(base, combination):\n",
        "  return K.sum(K.square(combination - base))\n",
        "\n",
        "def gram_matrix(x):\n",
        "    features = K.batch_flatten(K.permute_dimensions(x, (2, 0, 1)))\n",
        "    gram = K.dot(features,K.transpose(features))\n",
        "    return gram\n",
        "\n",
        "def style_loss(style, combination):\n",
        "    S = gram_matrix(style)\n",
        "    C = gram_matrix(combination)\n",
        "    channels = 3\n",
        "    size = img_height * img_width\n",
        "    return K.sum(K.square(S - C)) / (4. * (channels ** 2) * (size ** 2))\n",
        "\n",
        "def total_variation_loss(x):\n",
        "  a = K.square(\n",
        "      x[:,:img_height -1, :img_width -1, :] - x[:, 1:, :img_width -1, :])\n",
        "  b = K.square(\n",
        "      x[:,:img_height -1, :img_width -1, :] - x[:,:img_height -1, 1:, :])\n",
        "  return K.sum(K.pow(a + b, 1.25))"
      ],
      "execution_count": null,
      "outputs": []
    },
    {
      "cell_type": "code",
      "metadata": {
        "id": "ZMogjnfk6Gpi",
        "colab_type": "code",
        "colab": {}
      },
      "source": [
        "outputs_dict = dict([(layer.name, layer.output) for layer in model.layers])\n",
        "outputs_dict"
      ],
      "execution_count": null,
      "outputs": []
    },
    {
      "cell_type": "code",
      "metadata": {
        "id": "dWUpsvRe6IJK",
        "colab_type": "code",
        "colab": {}
      },
      "source": [
        "## 콘텐츠 손실에 사용할 층(상위 층)\n",
        "content_layer = 'block5_conv2'\n",
        "\n",
        "##스타일 손실에 사용할 층\n",
        "style_layers = ['block1_conv1',\n",
        "                'block2_conv1',\n",
        "                'block3_conv1',\n",
        "                'block4_conv1',\n",
        "                'block4_conv1']\n",
        "\n",
        "# 손실 항목의 가중치 평균에 사용할 가중치\n",
        "total_variation_weight = 1e-4\n",
        "style_weight = 1.\n",
        "content_weight = 0.025\n",
        "\n",
        "loss = K.variable(0.) #모든 손실함수의 값을 하나의 손실 값으로 정의할 손실을 지정\n",
        "\n",
        "layer_features = outputs_dict[content_layer]\n",
        "target_image_features = layer_features[0,:,:,:]\n",
        "combination_features = layer_features[2:,:,:]\n",
        "\n",
        "loss =  loss + content_weight * content_loss(target_image_features, \n",
        "                                      combination_features)\n",
        "\n",
        "for layer_name in style_layers:\n",
        "  layer_features = outputs_dict[layer_name]\n",
        "  style_reference_features = layer_features[1,:,:,:]\n",
        "  combination_features = layer_features[2,:,:,:]\n",
        "  sl = style_loss(style_reference_features, combination_features)\n",
        "  loss = loss + ((style_weight / len(style_layers)) * sl)\n",
        "\n",
        "loss = loss + (total_variation_weight * total_variation_loss(combination_image))"
      ],
      "execution_count": null,
      "outputs": []
    },
    {
      "cell_type": "code",
      "metadata": {
        "id": "4pd9tf4i6JLC",
        "colab_type": "code",
        "colab": {}
      },
      "source": [
        "# 손실에 대한 생성된 이미지의 그래디언트를 구합니다\n",
        "grads = K.gradients(loss, combination_image)[0]\n",
        "\n",
        "# 현재 손실과 그래디언트의 값을 추출하는 케라스 Function 객체입니다\n",
        "fetch_loss_and_grads = K.function([combination_image], [loss, grads])\n",
        "\n",
        "\n",
        "class Evaluator(object):\n",
        "\n",
        "    def __init__(self):\n",
        "        self.loss_value = None\n",
        "        self.grads_values = None\n",
        "\n",
        "    def loss(self, x):\n",
        "        assert self.loss_value is None\n",
        "        x = x.reshape((1, img_height, img_width, 3))\n",
        "        outs = fetch_loss_and_grads([x])\n",
        "        loss_value = outs[0]\n",
        "        grad_values = outs[1].flatten().astype('float64')\n",
        "        self.loss_value = loss_value\n",
        "        self.grad_values = grad_values\n",
        "        return self.loss_value\n",
        "\n",
        "    def grads(self, x):\n",
        "        assert self.loss_value is not None\n",
        "        grad_values = np.copy(self.grad_values)\n",
        "        self.loss_value = None\n",
        "        self.grad_values = None\n",
        "        return grad_values\n",
        "\n",
        "evaluator = Evaluator()"
      ],
      "execution_count": null,
      "outputs": []
    },
    {
      "cell_type": "code",
      "metadata": {
        "id": "HV0GYHog6Kqi",
        "colab_type": "code",
        "colab": {}
      },
      "source": [
        "result_prefix = 'style_transfer_result'\n",
        "iterations = 1500\n",
        "\n",
        "x = preprocess_image(content_path)\n",
        "x = x.flatten()\n",
        "loss_list = []\n",
        "for i in range(iterations):\n",
        "  print('반복 횟수:',i)\n",
        "  start_time = time.time()\n",
        "  x, min_val, info = fmin_l_bfgs_b(evaluator.loss, x,\n",
        "                                   fprime = evaluator.grads, maxfun = 20)\n",
        "  print('현재 손실 값:',min_val)\n",
        "  loss_list.append(min_val)\n",
        "\n",
        "  img = x.copy().reshape((img_height, img_width, 3))\n",
        "  img = deprocess_image(img)\n",
        "  fname = \"/content/drive/My Drive/Neural_Style_transfer/output_images/\" + result_prefix + '_at_iteration_%d.png' % (i)\n",
        "  end_time = time.time()\n",
        "  print('%d 번째 반복 완료: %ds' % (i, end_time - start_time))\n",
        "  print(\"\")\n",
        "\n",
        "save_img(fname, img)"
      ],
      "execution_count": null,
      "outputs": []
    },
    {
      "cell_type": "code",
      "metadata": {
        "id": "IzwSGFD86L7v",
        "colab_type": "code",
        "colab": {}
      },
      "source": [
        ""
      ],
      "execution_count": null,
      "outputs": []
    }
  ]
}