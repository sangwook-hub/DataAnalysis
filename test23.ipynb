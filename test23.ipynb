{
  "nbformat": 4,
  "nbformat_minor": 0,
  "metadata": {
    "colab": {
      "name": "test23.ipynb",
      "provenance": [],
      "private_outputs": true,
      "collapsed_sections": [],
      "authorship_tag": "ABX9TyOPXMyolNFafNqVn/QJuCX3",
      "include_colab_link": true
    },
    "kernelspec": {
      "name": "python3",
      "display_name": "Python 3"
    }
  },
  "cells": [
    {
      "cell_type": "markdown",
      "metadata": {
        "id": "view-in-github",
        "colab_type": "text"
      },
      "source": [
        "<a href=\"https://colab.research.google.com/github/sangwook-hub/DataAnalysis/blob/master/test23.ipynb\" target=\"_parent\"><img src=\"https://colab.research.google.com/assets/colab-badge.svg\" alt=\"Open In Colab\"/></a>"
      ]
    },
    {
      "cell_type": "code",
      "metadata": {
        "id": "wNsiN1LqSUPa",
        "colab_type": "code",
        "colab": {}
      },
      "source": [
        "# konlpy 설치\n",
        "!apt-get update\n",
        "!apt-get install g++ openjdk-8-jdk \n",
        "!pip3 install konlpy\n",
        "# 한글 폰트\n",
        "!apt-get install fonts-nanum*\n",
        "!apt-get install fontconfig\n",
        "!fc-cache -fv\n",
        "!cp /usr/share/fonts/truetype/nanum/Nanum* /usr/local/lib/python3.6/dist-packages/matplotlib/mpl-data/fonts/ttf/\n",
        "!rm -rf /content/.cache/matplotlib/*"
      ],
      "execution_count": null,
      "outputs": []
    },
    {
      "cell_type": "code",
      "metadata": {
        "id": "Lumkm9V2ScsH",
        "colab_type": "code",
        "colab": {}
      },
      "source": [
        "from google.colab import drive\n",
        "drive.mount('/content/drive')"
      ],
      "execution_count": null,
      "outputs": []
    },
    {
      "cell_type": "code",
      "metadata": {
        "id": "bqpknsFOaXGk",
        "colab_type": "code",
        "colab": {}
      },
      "source": [
        "# 1번 문제"
      ],
      "execution_count": null,
      "outputs": []
    },
    {
      "cell_type": "code",
      "metadata": {
        "id": "vJK3MP6JSfBO",
        "colab_type": "code",
        "colab": {}
      },
      "source": [
        "text = open(\"/content/drive/My Drive/test23.txt\", encoding='euc-kr').read()"
      ],
      "execution_count": null,
      "outputs": []
    },
    {
      "cell_type": "code",
      "metadata": {
        "id": "xhTCshLqSwSh",
        "colab_type": "code",
        "colab": {}
      },
      "source": [
        "from wordcloud import WordCloud, STOPWORDS\n",
        "import numpy as np\n",
        "from PIL import Image\n",
        "import nltk\n",
        "import matplotlib.pyplot as plt"
      ],
      "execution_count": null,
      "outputs": []
    },
    {
      "cell_type": "code",
      "metadata": {
        "id": "zcmnC1CEaZ0h",
        "colab_type": "code",
        "colab": {}
      },
      "source": [
        "# 2번 문제"
      ],
      "execution_count": null,
      "outputs": []
    },
    {
      "cell_type": "code",
      "metadata": {
        "id": "Xwc_VI_NS452",
        "colab_type": "code",
        "colab": {}
      },
      "source": [
        "from konlpy.tag import Twitter; t = Twitter()\n",
        "tokens_ko = t.nouns(text)"
      ],
      "execution_count": null,
      "outputs": []
    },
    {
      "cell_type": "code",
      "metadata": {
        "id": "ebML560PTA0N",
        "colab_type": "code",
        "colab": {}
      },
      "source": [
        "ko = nltk.Text(tokens_ko, name = 'text')"
      ],
      "execution_count": null,
      "outputs": []
    },
    {
      "cell_type": "code",
      "metadata": {
        "id": "7mJxMMsuTKxW",
        "colab_type": "code",
        "colab": {}
      },
      "source": [
        "print(len(ko.tokens))      # token 갯수 반환\n",
        "print(len(set(ko.tokens))) # unique한 token 반환"
      ],
      "execution_count": null,
      "outputs": []
    },
    {
      "cell_type": "code",
      "metadata": {
        "id": "0b0xuc96UUMp",
        "colab_type": "code",
        "colab": {}
      },
      "source": [
        "stop_words = ['듯','것','안','뭐','왜','좀','또','더','관','그','듯','것','안','말','앞','내','뭐','왜','더']\n",
        "\n",
        "token_ko = [each_word for each_word in tokens_ko if each_word not in stop_words]\n",
        "ko.vocab().most_common(30)"
      ],
      "execution_count": null,
      "outputs": []
    },
    {
      "cell_type": "code",
      "metadata": {
        "id": "yLEk8vcCVOph",
        "colab_type": "code",
        "colab": {}
      },
      "source": [
        "# 구글 colab 한글 폰트 적용\n",
        "import matplotlib as mpl\n",
        "import matplotlib.pyplot as plt\n",
        " \n",
        "%config InlineBackend.figure_format = 'retina'\n",
        " \n",
        "!apt -qq -y install fonts-nanum\n",
        " \n",
        "import matplotlib.font_manager as fm\n",
        "fontpath = '/usr/share/fonts/truetype/nanum/NanumBarunGothic.ttf'\n",
        "font = fm.FontProperties(fname=fontpath, size=9)\n",
        "plt.rc('font', family='NanumBarunGothic') \n",
        "mpl.font_manager._rebuild()"
      ],
      "execution_count": null,
      "outputs": []
    },
    {
      "cell_type": "code",
      "metadata": {
        "id": "d1zs27BDaci5",
        "colab_type": "code",
        "colab": {}
      },
      "source": [
        "# 3번 문제"
      ],
      "execution_count": null,
      "outputs": []
    },
    {
      "cell_type": "code",
      "metadata": {
        "id": "ii_Jg6_KTbvG",
        "colab_type": "code",
        "colab": {}
      },
      "source": [
        "plt.figure(figsize = (12,6))\n",
        "ko.plot(30)"
      ],
      "execution_count": null,
      "outputs": []
    },
    {
      "cell_type": "code",
      "metadata": {
        "id": "5TwcXrb2aexa",
        "colab_type": "code",
        "colab": {}
      },
      "source": [
        "# 4번 문제"
      ],
      "execution_count": null,
      "outputs": []
    },
    {
      "cell_type": "code",
      "metadata": {
        "id": "hRih1lQ4U04A",
        "colab_type": "code",
        "colab": {}
      },
      "source": [
        "from wordcloud import WordCloud, STOPWORDS\n",
        "from PIL import Image"
      ],
      "execution_count": null,
      "outputs": []
    },
    {
      "cell_type": "code",
      "metadata": {
        "id": "BRaPpDBTU5fV",
        "colab_type": "code",
        "colab": {}
      },
      "source": [
        "data = ko.vocab().most_common(200)\n",
        "wordcloud = WordCloud(font_path =fontpath ,relative_scaling=0.5, background_color='white').generate_from_frequencies(dict(data))\n",
        "plt.figure(figsize = (12,6))\n",
        "plt.imshow(wordcloud)\n",
        "plt.axis(\"off\")"
      ],
      "execution_count": null,
      "outputs": []
    },
    {
      "cell_type": "code",
      "metadata": {
        "id": "TE9nWRgKU-ud",
        "colab_type": "code",
        "colab": {}
      },
      "source": [
        "# 5번 문제"
      ],
      "execution_count": null,
      "outputs": []
    },
    {
      "cell_type": "code",
      "metadata": {
        "id": "bsTe9IA6anuL",
        "colab_type": "code",
        "colab": {}
      },
      "source": [
        "from gensim.models.word2vec import Word2Vec"
      ],
      "execution_count": null,
      "outputs": []
    },
    {
      "cell_type": "code",
      "metadata": {
        "id": "LwYSLlx5blYb",
        "colab_type": "code",
        "colab": {}
      },
      "source": [
        "model = Word2Vec(ko)\n",
        "model.init_sims(replace=True)"
      ],
      "execution_count": null,
      "outputs": []
    },
    {
      "cell_type": "code",
      "metadata": {
        "id": "qoPD6uHQbp-p",
        "colab_type": "code",
        "colab": {}
      },
      "source": [
        "model.wv.most_similar('춘희')"
      ],
      "execution_count": null,
      "outputs": []
    },
    {
      "cell_type": "code",
      "metadata": {
        "id": "Uh56Pj3Hb2mY",
        "colab_type": "code",
        "colab": {}
      },
      "source": [
        ""
      ],
      "execution_count": null,
      "outputs": []
    }
  ]
}